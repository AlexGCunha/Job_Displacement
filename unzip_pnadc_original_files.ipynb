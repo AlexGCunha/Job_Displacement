{
 "cells": [
  {
   "cell_type": "code",
   "execution_count": 1,
   "metadata": {},
   "outputs": [],
   "source": [
    "#Unzip files in data folder\n",
    "import os\n",
    "import zipfile\n",
    "\n",
    "#iterate over files to unzip\n",
    "for file in os.listdir('../data/pnadc_microdados_originais'):\n",
    "    if file.endswith('.zip'):\n",
    "        with zipfile.ZipFile('../data/pnadc_microdados_originais/' + file, 'r') as zip_ref:\n",
    "            zip_ref.extractall('../data')\n"
   ]
  }
 ],
 "metadata": {
  "kernelspec": {
   "display_name": "Python 3",
   "language": "python",
   "name": "python3"
  },
  "language_info": {
   "codemirror_mode": {
    "name": "ipython",
    "version": 3
   },
   "file_extension": ".py",
   "mimetype": "text/x-python",
   "name": "python",
   "nbconvert_exporter": "python",
   "pygments_lexer": "ipython3",
   "version": "3.11.9"
  }
 },
 "nbformat": 4,
 "nbformat_minor": 2
}
